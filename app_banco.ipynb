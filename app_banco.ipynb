{
  "nbformat": 4,
  "nbformat_minor": 0,
  "metadata": {
    "colab": {
      "provenance": [],
      "authorship_tag": "ABX9TyM2Jn6pdaixMdMXPP2lygij",
      "include_colab_link": true
    },
    "kernelspec": {
      "name": "python3",
      "display_name": "Python 3"
    },
    "language_info": {
      "name": "python"
    }
  },
  "cells": [
    {
      "cell_type": "markdown",
      "metadata": {
        "id": "view-in-github",
        "colab_type": "text"
      },
      "source": [
        "<a href=\"https://colab.research.google.com/github/LeMorelli-py/Sistema-Banco/blob/main/app_banco.ipynb\" target=\"_parent\"><img src=\"https://colab.research.google.com/assets/colab-badge.svg\" alt=\"Open In Colab\"/></a>"
      ]
    },
    {
      "cell_type": "code",
      "execution_count": 7,
      "metadata": {
        "colab": {
          "base_uri": "https://localhost:8080/"
        },
        "id": "LD4lB5yc6768",
        "outputId": "366bf3d6-f955-4f68-b7b2-2139dc965307"
      },
      "outputs": [
        {
          "name": "stdout",
          "output_type": "stream",
          "text": [
            "\n",
            "        Digite o número da função desejada:\n",
            "        [1] Depósito\n",
            "        [2] Saque\n",
            "        [3] Tirar extrato\n",
            "        [4] Sair\n",
            "        1\n",
            "Qual o valor a ser depositado? 1500\n",
            "\n",
            "        Digite o número da função desejada:\n",
            "        [1] Depósito\n",
            "        [2] Saque\n",
            "        [3] Tirar extrato\n",
            "        [4] Sair\n",
            "        2\n",
            "Qual o valor a ser sacado? 1000\n",
            "\n",
            "        Digite o número da função desejada:\n",
            "        [1] Depósito\n",
            "        [2] Saque\n",
            "        [3] Tirar extrato\n",
            "        [4] Sair\n",
            "        3\n",
            "[10500, [1500], [1000]]\n",
            "\n",
            "        Digite o número da função desejada:\n",
            "        [1] Depósito\n",
            "        [2] Saque\n",
            "        [3] Tirar extrato\n",
            "        [4] Sair\n",
            "        4\n"
          ]
        }
      ],
      "source": [
        "saldo = 10000\n",
        "saques = []\n",
        "depositos = []\n",
        "extrato = []\n",
        "funcao = int(input( '''\n",
        "        Digite o número da função desejada:\n",
        "        [1] Depósito\n",
        "        [2] Saque\n",
        "        [3] Tirar extrato\n",
        "        [4] Sair\n",
        "        ''' ))\n",
        "\n",
        "while True:\n",
        "  if funcao == 1:\n",
        "    valor = int(input('Qual o valor a ser depositado? '))\n",
        "    depositos.append(valor)\n",
        "    saldo += valor\n",
        "    funcao = int(input( '''\n",
        "        Digite o número da função desejada:\n",
        "        [1] Depósito\n",
        "        [2] Saque\n",
        "        [3] Tirar extrato\n",
        "        [4] Sair\n",
        "        ''' ))\n",
        "  elif funcao == 2:\n",
        "    valor = int(input('Qual o valor a ser sacado? '))\n",
        "    saques.append(valor)\n",
        "    saldo -= valor\n",
        "    funcao = int(input( '''\n",
        "        Digite o número da função desejada:\n",
        "        [1] Depósito\n",
        "        [2] Saque\n",
        "        [3] Tirar extrato\n",
        "        [4] Sair\n",
        "        ''' ))\n",
        "  elif funcao == 3:\n",
        "    extrato.append(saldo)\n",
        "    extrato.append(depositos)\n",
        "    extrato.append(saques)\n",
        "    print(extrato)\n",
        "    funcao = int(input( '''\n",
        "        Digite o número da função desejada:\n",
        "        [1] Depósito\n",
        "        [2] Saque\n",
        "        [3] Tirar extrato\n",
        "        [4] Sair\n",
        "        ''' ))\n",
        "  elif funcao == 4:\n",
        "    break\n",
        "\n",
        "\n"
      ]
    }
  ]
}